{
 "cells": [
  {
   "cell_type": "code",
   "execution_count": null,
   "id": "4fe81aaa",
   "metadata": {},
   "outputs": [],
   "source": [
    "import numpy as np\n",
    "import pandas as pd\n",
    "from sklearn.model_selection import train_test_split\n",
    "from sklearn.preprocessing import StandardScaler\n",
    "from keras.models import Sequential\n",
    "from keras.layers import LSTM, Dense, Dropout\n",
    "from keras.optimizers import Adam\n",
    "from keras.callbacks import EarlyStopping"
   ]
  },
  {
   "cell_type": "code",
   "execution_count": null,
   "id": "2f3eb0e7",
   "metadata": {},
   "outputs": [],
   "source": [
    "y=y.map({\n",
    "    1: 0, 2: 1\n",
    "})"
   ]
  },
  {
   "cell_type": "code",
   "execution_count": null,
   "id": "82cde0b2",
   "metadata": {},
   "outputs": [],
   "source": [
    "X_train, X_test, y_train, y_test = train_test_split(X, y, test_size=0.2)"
   ]
  },
  {
   "cell_type": "code",
   "execution_count": null,
   "id": "272d6f9a",
   "metadata": {},
   "outputs": [],
   "source": [
    "sc = StandardScaler()\n",
    "X_train = sc.fit_transform(X_train)\n",
    "X_test = sc.transform(X_test)"
   ]
  },
  {
   "cell_type": "code",
   "execution_count": null,
   "id": "34b2a459",
   "metadata": {},
   "outputs": [],
   "source": [
    "X_train = np.reshape(X_train, (X_train.shape[0], X_train.shape[1], 1))\n",
    "X_test = np.reshape(X_test, (X_test.shape[0], X_test.shape[1], 1))"
   ]
  },
  {
   "cell_type": "code",
   "execution_count": null,
   "id": "3597d8e3",
   "metadata": {},
   "outputs": [],
   "source": [
    "model = Sequential([\n",
    "    LSTM(units=64, return_sequences=True, input_shape=(X_train.shape[1], 1)),\n",
    "    Dropout(0.2),\n",
    "    LSTM(units=64, return_sequences=True),\n",
    "    Dropout(0.2),\n",
    "    LSTM(units=64),\n",
    "    Dropout(0.2),\n",
    "    Dense(units=1, activation='sigmoid')\n",
    "])"
   ]
  },
  {
   "cell_type": "code",
   "execution_count": 39,
   "id": "58424d93",
   "metadata": {},
   "outputs": [
    {
     "name": "stderr",
     "output_type": "stream",
     "text": [
      "WARNING:absl:At this time, the v2.11+ optimizer `tf.keras.optimizers.Adam` runs slowly on M1/M2 Macs, please use the legacy Keras optimizer instead, located at `tf.keras.optimizers.legacy.Adam`.\n",
      "WARNING:absl:There is a known slowdown when using v2.11+ Keras optimizers on M1/M2 Macs. Falling back to the legacy Keras optimizer, i.e., `tf.keras.optimizers.legacy.Adam`.\n"
     ]
    },
    {
     "name": "stdout",
     "output_type": "stream",
     "text": [
      "Epoch 1/100\n",
      "679/679 [==============================] - 10s 10ms/step - loss: 0.5296 - accuracy: 0.7126 - val_loss: 0.5030 - val_accuracy: 0.7233\n",
      "Epoch 2/100\n",
      "679/679 [==============================] - 6s 9ms/step - loss: 0.5063 - accuracy: 0.7126 - val_loss: 0.4970 - val_accuracy: 0.7301\n",
      "Epoch 3/100\n",
      "679/679 [==============================] - 6s 9ms/step - loss: 0.5005 - accuracy: 0.7150 - val_loss: 0.4938 - val_accuracy: 0.7270\n",
      "Epoch 4/100\n",
      "679/679 [==============================] - 6s 9ms/step - loss: 0.4960 - accuracy: 0.7133 - val_loss: 0.4937 - val_accuracy: 0.7218\n",
      "Epoch 5/100\n",
      "679/679 [==============================] - 6s 9ms/step - loss: 0.4886 - accuracy: 0.7162 - val_loss: 0.4898 - val_accuracy: 0.7187\n",
      "Epoch 6/100\n",
      "679/679 [==============================] - 6s 9ms/step - loss: 0.4792 - accuracy: 0.7159 - val_loss: 0.4704 - val_accuracy: 0.7159\n",
      "Epoch 7/100\n",
      "679/679 [==============================] - 6s 9ms/step - loss: 0.4647 - accuracy: 0.7194 - val_loss: 0.4425 - val_accuracy: 0.7344\n",
      "Epoch 8/100\n",
      "679/679 [==============================] - 6s 9ms/step - loss: 0.4365 - accuracy: 0.7320 - val_loss: 0.4081 - val_accuracy: 0.7528\n",
      "Epoch 9/100\n",
      "679/679 [==============================] - 6s 9ms/step - loss: 0.3999 - accuracy: 0.7586 - val_loss: 0.3549 - val_accuracy: 0.7936\n",
      "Epoch 10/100\n",
      "679/679 [==============================] - 6s 9ms/step - loss: 0.3507 - accuracy: 0.7936 - val_loss: 0.3138 - val_accuracy: 0.8209\n",
      "Epoch 11/100\n",
      "679/679 [==============================] - 6s 9ms/step - loss: 0.3149 - accuracy: 0.8201 - val_loss: 0.2712 - val_accuracy: 0.8489\n",
      "Epoch 12/100\n",
      "679/679 [==============================] - 6s 9ms/step - loss: 0.2788 - accuracy: 0.8449 - val_loss: 0.2294 - val_accuracy: 0.8741\n",
      "Epoch 13/100\n",
      "679/679 [==============================] - 6s 9ms/step - loss: 0.2518 - accuracy: 0.8609 - val_loss: 0.2063 - val_accuracy: 0.8875\n",
      "Epoch 14/100\n",
      "679/679 [==============================] - 6s 9ms/step - loss: 0.2343 - accuracy: 0.8748 - val_loss: 0.1882 - val_accuracy: 0.9004\n",
      "Epoch 15/100\n",
      "679/679 [==============================] - 6s 9ms/step - loss: 0.2200 - accuracy: 0.8839 - val_loss: 0.2096 - val_accuracy: 0.8859\n",
      "Epoch 16/100\n",
      "679/679 [==============================] - 6s 9ms/step - loss: 0.2019 - accuracy: 0.8969 - val_loss: 0.1633 - val_accuracy: 0.9260\n",
      "Epoch 17/100\n",
      "679/679 [==============================] - 6s 9ms/step - loss: 0.1883 - accuracy: 0.9100 - val_loss: 0.1709 - val_accuracy: 0.9278\n",
      "Epoch 18/100\n",
      "679/679 [==============================] - 6s 9ms/step - loss: 0.1700 - accuracy: 0.9207 - val_loss: 0.1219 - val_accuracy: 0.9630\n",
      "Epoch 19/100\n",
      "679/679 [==============================] - 6s 9ms/step - loss: 0.1541 - accuracy: 0.9308 - val_loss: 0.1044 - val_accuracy: 0.9630\n",
      "Epoch 20/100\n",
      "679/679 [==============================] - 6s 9ms/step - loss: 0.1506 - accuracy: 0.9361 - val_loss: 0.1183 - val_accuracy: 0.9497\n",
      "Epoch 21/100\n",
      "679/679 [==============================] - 6s 9ms/step - loss: 0.1281 - accuracy: 0.9450 - val_loss: 0.1209 - val_accuracy: 0.9518\n",
      "Epoch 22/100\n",
      "679/679 [==============================] - 6s 9ms/step - loss: 0.1200 - accuracy: 0.9506 - val_loss: 0.0693 - val_accuracy: 0.9728\n",
      "Epoch 23/100\n",
      "679/679 [==============================] - 6s 9ms/step - loss: 0.1084 - accuracy: 0.9547 - val_loss: 0.0783 - val_accuracy: 0.9685\n",
      "Epoch 24/100\n",
      "679/679 [==============================] - 6s 9ms/step - loss: 0.1033 - accuracy: 0.9579 - val_loss: 0.0592 - val_accuracy: 0.9757\n",
      "Epoch 25/100\n",
      "679/679 [==============================] - 6s 9ms/step - loss: 0.0884 - accuracy: 0.9645 - val_loss: 0.0466 - val_accuracy: 0.9812\n",
      "Epoch 26/100\n",
      "679/679 [==============================] - 6s 9ms/step - loss: 0.0798 - accuracy: 0.9681 - val_loss: 0.0446 - val_accuracy: 0.9856\n",
      "Epoch 27/100\n",
      "679/679 [==============================] - 7s 10ms/step - loss: 0.0778 - accuracy: 0.9701 - val_loss: 0.0353 - val_accuracy: 0.9897\n",
      "Epoch 28/100\n",
      "679/679 [==============================] - 7s 10ms/step - loss: 0.0738 - accuracy: 0.9716 - val_loss: 0.0458 - val_accuracy: 0.9838\n",
      "Epoch 29/100\n",
      "679/679 [==============================] - 7s 10ms/step - loss: 0.0680 - accuracy: 0.9735 - val_loss: 0.0290 - val_accuracy: 0.9908\n",
      "Epoch 30/100\n",
      "679/679 [==============================] - 6s 9ms/step - loss: 0.0593 - accuracy: 0.9785 - val_loss: 0.0227 - val_accuracy: 0.9952\n",
      "Epoch 31/100\n",
      "679/679 [==============================] - 6s 9ms/step - loss: 0.0545 - accuracy: 0.9800 - val_loss: 0.0214 - val_accuracy: 0.9959\n",
      "Epoch 32/100\n",
      "679/679 [==============================] - 6s 9ms/step - loss: 0.0548 - accuracy: 0.9801 - val_loss: 0.0337 - val_accuracy: 0.9902\n",
      "Epoch 33/100\n",
      "679/679 [==============================] - 6s 9ms/step - loss: 0.0462 - accuracy: 0.9832 - val_loss: 0.0194 - val_accuracy: 0.9965\n",
      "Epoch 34/100\n",
      "679/679 [==============================] - 6s 9ms/step - loss: 0.0456 - accuracy: 0.9836 - val_loss: 0.0171 - val_accuracy: 0.9959\n",
      "Epoch 35/100\n",
      "679/679 [==============================] - 6s 9ms/step - loss: 0.0426 - accuracy: 0.9855 - val_loss: 0.0226 - val_accuracy: 0.9930\n",
      "Epoch 36/100\n",
      "679/679 [==============================] - 6s 9ms/step - loss: 0.0373 - accuracy: 0.9863 - val_loss: 0.0172 - val_accuracy: 0.9943\n",
      "Epoch 37/100\n",
      "679/679 [==============================] - 6s 9ms/step - loss: 0.0405 - accuracy: 0.9859 - val_loss: 0.0296 - val_accuracy: 0.9893\n",
      "Epoch 38/100\n",
      "679/679 [==============================] - 6s 9ms/step - loss: 0.0371 - accuracy: 0.9882 - val_loss: 0.0258 - val_accuracy: 0.9926\n",
      "Epoch 39/100\n",
      "679/679 [==============================] - 6s 9ms/step - loss: 0.0411 - accuracy: 0.9860 - val_loss: 0.0112 - val_accuracy: 0.9980\n",
      "Epoch 40/100\n",
      "679/679 [==============================] - 6s 9ms/step - loss: 0.0356 - accuracy: 0.9882 - val_loss: 0.0104 - val_accuracy: 0.9993\n",
      "Epoch 41/100\n",
      "679/679 [==============================] - 6s 9ms/step - loss: 0.0326 - accuracy: 0.9894 - val_loss: 0.0248 - val_accuracy: 0.9925\n",
      "Epoch 42/100\n",
      "679/679 [==============================] - 6s 9ms/step - loss: 0.0352 - accuracy: 0.9879 - val_loss: 0.0112 - val_accuracy: 0.9974\n",
      "Epoch 43/100\n",
      "679/679 [==============================] - 6s 9ms/step - loss: 0.0304 - accuracy: 0.9895 - val_loss: 0.0187 - val_accuracy: 0.9934\n",
      "Epoch 44/100\n",
      "679/679 [==============================] - 6s 9ms/step - loss: 0.0263 - accuracy: 0.9913 - val_loss: 0.0112 - val_accuracy: 0.9987\n",
      "Epoch 45/100\n",
      "679/679 [==============================] - 6s 9ms/step - loss: 0.0265 - accuracy: 0.9916 - val_loss: 0.0175 - val_accuracy: 0.9969\n",
      "170/170 [==============================] - 0s 2ms/step - loss: 0.0104 - accuracy: 0.9993\n",
      "Test Loss: 0.010441005229949951\n",
      "Test Accuracy: 0.9992636442184448\n"
     ]
    }
   ],
   "source": [
    "\n",
    "model.compile(optimizer=Adam(learning_rate=0.001), loss='binary_crossentropy', metrics=['accuracy'])\n",
    "\n",
    "early_stopping = EarlyStopping(monitor='val_loss', patience=5, restore_best_weights=True)\n",
    "\n",
    "history = model.fit(X_train, y_train, epochs=100, batch_size=32, validation_data=(X_test, y_test), callbacks=[early_stopping])\n",
    "\n",
    "\n",
    "test_loss, test_accuracy = model.evaluate(X_test, y_test)\n",
    "\n",
    "print(\"Test Loss:\", test_loss)\n",
    "print(\"Test Accuracy:\", test_accuracy)\n"
   ]
  },
  {
   "cell_type": "code",
   "execution_count": null,
   "id": "ec16257b",
   "metadata": {},
   "outputs": [],
   "source": [
    "from prettytable import PrettyTable\n",
    "\n",
    "data = [\n",
    "    [1, 0.5296, 0.7126, 0.5030, 0.7233],\n",
    "    [2, 0.5063, 0.7126, 0.4970, 0.7301],\n",
    "    [3, 0.5005, 0.7150, 0.4938, 0.7270],\n",
    "    [43, 0.0304, 0.9895, 0.0187, 0.9934],\n",
    "    [44, 0.0263, 0.9913, 0.0112, 0.9987],\n",
    "    [45, 0.0265, 0.9916, 0.0175, 0.9969]\n",
    "]"
   ]
  },
  {
   "cell_type": "code",
   "execution_count": null,
   "id": "9010a037",
   "metadata": {},
   "outputs": [],
   "source": [
    "table = PrettyTable()\n",
    "table.field_names = [\"Epoch\", \"Train Loss\", \"Train Accuracy\", \"Valid Loss\", \"Valid Accuracy\"]"
   ]
  },
  {
   "cell_type": "code",
   "execution_count": 48,
   "id": "dd5cc2fa",
   "metadata": {},
   "outputs": [
    {
     "name": "stdout",
     "output_type": "stream",
     "text": [
      "+-------+------------+----------------+------------+----------------+\n",
      "| Epoch | Train Loss | Train Accuracy | Valid Loss | Valid Accuracy |\n",
      "+-------+------------+----------------+------------+----------------+\n",
      "|   1   |   0.5296   |     0.7126     |   0.503    |     0.7233     |\n",
      "|   2   |   0.5063   |     0.7126     |   0.497    |     0.7301     |\n",
      "|   3   |   0.5005   |     0.715      |   0.4938   |     0.727      |\n",
      "|   43  |   0.0304   |     0.9895     |   0.0187   |     0.9934     |\n",
      "|   44  |   0.0263   |     0.9913     |   0.0112   |     0.9987     |\n",
      "|   45  |   0.0265   |     0.9916     |   0.0175   |     0.9969     |\n",
      "+-------+------------+----------------+------------+----------------+\n",
      "\n",
      "Test Loss: 0.0104\n",
      "Test Accuracy: 0.9993\n"
     ]
    }
   ],
   "source": [
    "for row in data:\n",
    "    table.add_row(row)\n",
    "\n",
    "print(table)\n",
    "\n",
    "test_loss = 0.0104\n",
    "test_accuracy = 0.9993\n",
    "\n",
    "print(\"\\nTest Loss: {:.4f}\".format(test_loss))\n",
    "print(\"Test Accuracy: {:.4f}\".format(test_accuracy))\n"
   ]
  },
  {
   "cell_type": "code",
   "execution_count": null,
   "id": "dba6aa7b",
   "metadata": {},
   "outputs": [],
   "source": []
  },
  {
   "cell_type": "code",
   "execution_count": 44,
   "id": "643ad97f",
   "metadata": {},
   "outputs": [
    {
     "name": "stdout",
     "output_type": "stream",
     "text": [
      "0        0\n",
      "1        1\n",
      "2        1\n",
      "3        1\n",
      "4        1\n",
      "        ..\n",
      "30686    1\n",
      "30687    1\n",
      "30688    1\n",
      "30689    0\n",
      "30690    1\n",
      "Name: Gender of the patient, Length: 27158, dtype: int64\n"
     ]
    }
   ],
   "source": [
    "print(data['Gender of the patient'])"
   ]
  },
  {
   "cell_type": "code",
   "execution_count": null,
   "id": "508a0abf",
   "metadata": {},
   "outputs": [],
   "source": []
  }
 ],
 "metadata": {
  "kernelspec": {
   "display_name": "Python 3 (ipykernel)",
   "language": "python",
   "name": "python3"
  },
  "language_info": {
   "codemirror_mode": {
    "name": "ipython",
    "version": 3
   },
   "file_extension": ".py",
   "mimetype": "text/x-python",
   "name": "python",
   "nbconvert_exporter": "python",
   "pygments_lexer": "ipython3",
   "version": "3.11.4"
  }
 },
 "nbformat": 4,
 "nbformat_minor": 5
}
